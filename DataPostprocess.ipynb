{
 "cells": [
  {
   "cell_type": "code",
   "execution_count": null,
   "metadata": {},
   "outputs": [],
   "source": [
    "import pandas as pd"
   ]
  },
  {
   "cell_type": "code",
   "execution_count": null,
   "metadata": {},
   "outputs": [],
   "source": [
    "# Example GitHub repository URL with raw CSV file\n",
    "github_csv_url = 'https://raw.githubusercontent.com/username/repository/master/data/data.csv'\n",
    "\n",
    "# Read the CSV file into a Pandas DataFrame\n",
    "df = pd.read_csv(github_csv_url)"
   ]
  },
  {
   "cell_type": "code",
   "execution_count": null,
   "metadata": {},
   "outputs": [],
   "source": [
    "# Sort the DataFrame by the \"FPTS\" column in descending order\n",
    "sorted_df = merged_df.sort_values(by=[(\"MISC\", \"FPTS\")], ascending=False)\n",
    "\n",
    "# Display the sorted DataFrame\n",
    "sorted_df.head(10)"
   ]
  },
  {
   "cell_type": "markdown",
   "metadata": {},
   "source": [
    "Calculate highest correlation to FPTS"
   ]
  },
  {
   "cell_type": "code",
   "execution_count": null,
   "metadata": {},
   "outputs": [],
   "source": [
    "# Calculate the correlation matrix\n",
    "correlation_matrix = merged_df.corr()\n",
    "\n",
    "# Get the correlation of \"MISC FPTS\" with all columns, excluding itself\n",
    "misc_fpts_correlation = correlation_matrix.loc[(\"MISC FPTS\")].drop(\"MISC FPTS\")\n",
    "\n",
    "# Sort the correlations in descending order\n",
    "sorted_correlation = misc_fpts_correlation.sort_values(ascending=False)\n",
    "\n",
    "# Get the columns with the highest correlation\n",
    "highest_correlation_columns = sorted_correlation.index[0]\n",
    "\n",
    "# Print the result as a list of columns with the highest correlation in desc order\n",
    "print(\"Columns with the highest correlation to MISC FPTS in descending order:\")\n",
    "print(highest_correlation_columns)"
   ]
  }
 ],
 "metadata": {
  "kernelspec": {
   "display_name": "Python 3.9.6 64-bit",
   "language": "python",
   "name": "python3"
  },
  "language_info": {
   "name": "python",
   "version": "3.9.6"
  },
  "orig_nbformat": 4,
  "vscode": {
   "interpreter": {
    "hash": "31f2aee4e71d21fbe5cf8b01ff0e069b9275f58929596ceb00d14d90e3e16cd6"
   }
  }
 },
 "nbformat": 4,
 "nbformat_minor": 2
}
