{
 "cells": [
  {
   "cell_type": "code",
   "execution_count": null,
   "metadata": {},
   "outputs": [],
   "source": [
    "import pandas as pd\n",
    "import requests\n",
    "from bs4 import BeautifulSoup"
   ]
  },
  {
   "cell_type": "code",
   "execution_count": 6,
   "metadata": {},
   "outputs": [
    {
     "name": "stderr",
     "output_type": "stream",
     "text": [
      "/var/folders/r0/wxyx40j52h9551yrrxdd77rh0000gs/T/ipykernel_56079/1172816072.py:29: FutureWarning: Passing literal html to 'read_html' is deprecated and will be removed in a future version. To read from a literal string, wrap it in a 'StringIO' object.\n",
      "  df = pd.read_html(str(table), header=[0, 1])[0]\n",
      "/var/folders/r0/wxyx40j52h9551yrrxdd77rh0000gs/T/ipykernel_56079/1172816072.py:29: FutureWarning: Passing literal html to 'read_html' is deprecated and will be removed in a future version. To read from a literal string, wrap it in a 'StringIO' object.\n",
      "  df = pd.read_html(str(table), header=[0, 1])[0]\n",
      "/var/folders/r0/wxyx40j52h9551yrrxdd77rh0000gs/T/ipykernel_56079/1172816072.py:29: FutureWarning: Passing literal html to 'read_html' is deprecated and will be removed in a future version. To read from a literal string, wrap it in a 'StringIO' object.\n",
      "  df = pd.read_html(str(table), header=[0, 1])[0]\n"
     ]
    },
    {
     "name": "stdout",
     "output_type": "stream",
     "text": [
      "    Unnamed: 0_level_0       Unnamed: 1_level_0 PASSING                       \\\n",
      "                  Rank                   Player     CMP    ATT   PCT     YDS   \n",
      "0                    1         Josh Allen (BUF)   128.0  175.0  73.1  1407.0   \n",
      "1                    2  Patrick Mahomes II (KC)   153.0  224.0  68.3  1593.0   \n",
      "2                    3        Jalen Hurts (PHI)   113.0  168.0  67.3  1262.0   \n",
      "3                    4     Russell Wilson (DEN)   122.0  185.0  65.9  1305.0   \n",
      "4                    5      Justin Fields (CHI)    94.0  152.0  61.8  1143.0   \n",
      "..                 ...                      ...     ...    ...   ...     ...   \n",
      "829                192    James Winchester (KC)     NaN    NaN   NaN     NaN   \n",
      "830                193          Tyler Ott (BAL)     NaN    NaN   NaN     NaN   \n",
      "831                194     Patrick Scales (CHI)     NaN    NaN   NaN     NaN   \n",
      "832                195     Andrew DePaola (MIN)     NaN    NaN   NaN     NaN   \n",
      "833                196        Tyler Kroft (MIA)     NaN    NaN   NaN     NaN   \n",
      "\n",
      "                           ... RUSHING         RECEIVING                      \\\n",
      "     Y/A    TD  INT SACKS  ...     Y/A  LG 20+       REC  TGT  YDS  Y/R   TD   \n",
      "0    8.0  11.0  5.0   9.0  ...     NaN NaN NaN       NaN  NaN  NaN  NaN  NaN   \n",
      "1    7.1  11.0  5.0   6.0  ...     NaN NaN NaN       NaN  NaN  NaN  NaN  NaN   \n",
      "2    7.5   6.0  4.0  12.0  ...     NaN NaN NaN       NaN  NaN  NaN  NaN  NaN   \n",
      "3    7.1  12.0  4.0  19.0  ...     NaN NaN NaN       NaN  NaN  NaN  NaN  NaN   \n",
      "4    7.5  11.0  5.0  20.0  ...     NaN NaN NaN       NaN  NaN  NaN  NaN  NaN   \n",
      "..   ...   ...  ...   ...  ...     ...  ..  ..       ...  ...  ...  ...  ...   \n",
      "829  NaN   NaN  NaN   NaN  ...     NaN NaN NaN       0.0  0.0  0.0  0.0  0.0   \n",
      "830  NaN   NaN  NaN   NaN  ...     NaN NaN NaN       0.0  0.0  0.0  0.0  0.0   \n",
      "831  NaN   NaN  NaN   NaN  ...     NaN NaN NaN       0.0  0.0  0.0  0.0  0.0   \n",
      "832  NaN   NaN  NaN   NaN  ...     NaN NaN NaN       0.0  0.0  0.0  0.0  0.0   \n",
      "833  NaN   NaN  NaN   NaN  ...     NaN NaN NaN       0.0  0.0  0.0  0.0  0.0   \n",
      "\n",
      "               \n",
      "      LG  20+  \n",
      "0    NaN  NaN  \n",
      "1    NaN  NaN  \n",
      "2    NaN  NaN  \n",
      "3    NaN  NaN  \n",
      "4    NaN  NaN  \n",
      "..   ...  ...  \n",
      "829  0.0  0.0  \n",
      "830  0.0  0.0  \n",
      "831  0.0  0.0  \n",
      "832  0.0  0.0  \n",
      "833  0.0  0.0  \n",
      "\n",
      "[834 rows x 29 columns]\n"
     ]
    },
    {
     "name": "stderr",
     "output_type": "stream",
     "text": [
      "/var/folders/r0/wxyx40j52h9551yrrxdd77rh0000gs/T/ipykernel_56079/1172816072.py:29: FutureWarning: Passing literal html to 'read_html' is deprecated and will be removed in a future version. To read from a literal string, wrap it in a 'StringIO' object.\n",
      "  df = pd.read_html(str(table), header=[0, 1])[0]\n"
     ]
    }
   ],
   "source": [
    "# List of URLs to scrape\n",
    "urls = [\n",
    "    'https://www.fantasypros.com/nfl/stats/qb.php?scoring=HALF&roster=y',\n",
    "    'https://www.fantasypros.com/nfl/stats/rb.php?scoring=HALF&roster=y',\n",
    "    'https://www.fantasypros.com/nfl/stats/wr.php?scoring=HALF&roster=y',\n",
    "    'https://www.fantasypros.com/nfl/stats/te.php?scoring=HALF&roster=y'\n",
    "]\n",
    "\n",
    "# Initialize an empty list to store DataFrames\n",
    "data_frames = []\n",
    "\n",
    "for url in urls:\n",
    "    # Send an HTTP GET request to the URL\n",
    "    response = requests.get(url)\n",
    "\n",
    "    # Check if the request was successful\n",
    "    if response.status_code == 200:\n",
    "        # Parse the HTML content of the page\n",
    "        soup = BeautifulSoup(response.text, 'html.parser')\n",
    "        \n",
    "        # Find the table on the page\n",
    "        table = soup.find('table')\n",
    "\n",
    "        # Read the table into a Pandas DataFrame\n",
    "        df = pd.read_html(str(table), header=[0, 1])[0]\n",
    "        \n",
    "        # Add a \"LOC\" column to the DataFrame\n",
    "        loc = url.split('/')[-1][:2]\n",
    "        df[(\"LOC\", \"POS\")] = loc\n",
    "\n",
    "        data_frames.append(df)\n",
    "    else:\n",
    "        print(f\"Failed to retrieve data from {url}\")\n",
    "\n",
    "# Merge all DataFrames into one based on the first and second row headers\n",
    "merged_df = pd.concat(data_frames, ignore_index=True)\n",
    "\n",
    "# Display the merged DataFrame\n",
    "print(merged_df)\n",
    "\n",
    "# If you want to save the data to a CSV file, you can do it like this:\n",
    "merged_df.to_csv('fantasy_stats.csv', index=False)\n"
   ]
  }
 ],
 "metadata": {
  "kernelspec": {
   "display_name": "Python 3.9.6 64-bit",
   "language": "python",
   "name": "python3"
  },
  "language_info": {
   "codemirror_mode": {
    "name": "ipython",
    "version": 3
   },
   "file_extension": ".py",
   "mimetype": "text/x-python",
   "name": "python",
   "nbconvert_exporter": "python",
   "pygments_lexer": "ipython3",
   "version": "3.9.6"
  },
  "orig_nbformat": 4,
  "vscode": {
   "interpreter": {
    "hash": "31f2aee4e71d21fbe5cf8b01ff0e069b9275f58929596ceb00d14d90e3e16cd6"
   }
  }
 },
 "nbformat": 4,
 "nbformat_minor": 2
}
