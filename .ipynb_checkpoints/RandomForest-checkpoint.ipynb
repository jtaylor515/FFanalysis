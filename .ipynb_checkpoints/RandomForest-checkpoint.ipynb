{
 "cells": [
  {
   "cell_type": "markdown",
   "metadata": {},
   "source": [
    "## Random Forest with GridSearchCV hyperparemeter tuning and no regularization"
   ]
  },
  {
   "cell_type": "code",
   "execution_count": 2,
   "metadata": {},
   "outputs": [],
   "source": [
    "from vars import *"
   ]
  },
  {
   "cell_type": "code",
   "execution_count": 3,
   "metadata": {},
   "outputs": [],
   "source": [
    "if gpu == False:\n",
    "\n",
    "    import pandas as pd\n",
    "    from sklearn.ensemble import RandomForestRegressor\n",
    "    from sklearn.model_selection import GridSearchCV\n",
    "    from sklearn.impute import SimpleImputer\n",
    "\n",
    "    # Get user input for the week number to predict\n",
    "    num_week = int(input(\"Enter the week to predict: \"))\n",
    "\n",
    "    for pos in positions:\n",
    "        # Load your dataset\n",
    "        data = pd.read_csv(\"datasets/weekly_scoring.csv\")\n",
    "\n",
    "        # Preprocessing\n",
    "        data = data[data['POS'] == pos]\n",
    "        weights = data['WEIGHT']\n",
    "        data = data.drop(columns=['POS RANK', 'POS', 'MISC G', 'MISC ROST', 'MISC FPTS/G', 'RECEIVING REC', 'RECEIVING TGT', 'RECEIVING YDS', 'RECEIVING Y/R',\n",
    "        'RECEIVING LG', 'RECEIVING 20+', 'RECEIVING TD', 'RUSHING Y/A', 'RUSHING LG', 'RUSHING 20+', 'DATE', 'YEAR', 'WEIGHT', 'WEEK'])\n",
    "        data = pd.get_dummies(data, columns=['PLAYER'], drop_first=True)\n",
    "\n",
    "        # Identify columns with missing values before imputation\n",
    "        columns_with_missing = data.columns[data.isnull().any()].tolist()\n",
    "\n",
    "        # Impute missing values with the mean of each column\n",
    "        # imputer = SimpleImputer(strategy='mean')\n",
    "        imputer = SimpleImputer(strategy='median')  # Use 'median' strategy\n",
    "\n",
    "        data = pd.DataFrame(imputer.fit_transform(data), columns=data.columns)\n",
    "\n",
    "        # Define the list of variables to predict\n",
    "        var_list = ['PASSING CMP', 'PASSING ATT', 'PASSING PCT', 'PASSING YDS', 'PASSING Y/A', 'PASSING TD', 'PASSING INT',\n",
    "                    'PASSING SACKS', 'RUSHING ATT', 'RUSHING YDS', 'RUSHING TD', 'MISC FL', 'MISC FPTS']\n",
    "\n",
    "        # Separate the dataset into features (X) and the target variable (y)\n",
    "        X = data.drop(var_list, axis=1)\n",
    "        y = data['MISC FPTS']\n",
    "\n",
    "        # Save a copy of the dataset\n",
    "        df = data\n",
    "\n",
    "        # Hyperparameter tuning using GridSearchCV\n",
    "        param_grid = {\n",
    "            'n_estimators': [50, 100, 200],\n",
    "            'max_depth': [None, 10, 20],\n",
    "            'min_samples_split': [2, 5, 10],\n",
    "            'min_samples_leaf': [1, 2, 4]\n",
    "        }\n",
    "\n",
    "        grid_search = GridSearchCV(RandomForestRegressor(), param_grid, cv=3, scoring='neg_mean_squared_error', n_jobs=-1)\n",
    "        grid_search.fit(X, y)\n",
    "\n",
    "        # Fit the model with the best hyperparameters\n",
    "        best_rf_model = grid_search.best_estimator_\n",
    "        # best_rf_model.fit(X, y)\n",
    "\n",
    "        # Fit the model with weighted on date\n",
    "        best_rf_model.fit(X, y, sample_weight=weights)\n",
    "\n",
    "        # Get a list of unique player names after one-hot encoding\n",
    "        unique_players = X.columns\n",
    "\n",
    "        # Create a list of dictionaries to store the results\n",
    "        results_list = []\n",
    "\n",
    "        for player in unique_players:\n",
    "            # Create a DataFrame with all zeros\n",
    "            predict_data = pd.DataFrame(0, index=range(1), columns=X.columns)\n",
    "            # Set the corresponding player's column to 1 for prediction\n",
    "            predict_data[player] = 1\n",
    "            # Make a prediction for the player\n",
    "            misc_fpts_prediction = best_rf_model.predict(predict_data)\n",
    "            results_list.append({'Player': player, 'MISC FPTS': misc_fpts_prediction[0]})\n",
    "\n",
    "        # Convert the list of dictionaries into a DataFrame\n",
    "        results_df = pd.DataFrame(results_list)\n",
    "\n",
    "        results_df = results_df.sort_values(by='MISC FPTS', ascending=False)\n",
    "        # Save the results to a CSV file\n",
    "        file_name = f\"predictions/RFweek{num_week}{pos}weight.csv\"\n",
    "        results_df.to_csv(file_name, index=False)\n",
    "\n",
    "        results_df.head(10)"
   ]
  },
  {
   "cell_type": "markdown",
   "metadata": {},
   "source": [
    "## Random Forest on GPU with Rapids AI"
   ]
  },
  {
   "cell_type": "code",
   "execution_count": null,
   "metadata": {},
   "outputs": [
    {
     "name": "stdin",
     "output_type": "stream",
     "text": [
      "Enter the week to predict:  7\n"
     ]
    },
    {
     "name": "stderr",
     "output_type": "stream",
     "text": [
      "/home/jtaylor515/miniconda3/envs/rapids-23.10/lib/python3.10/site-packages/cudf/core/reshape.py:708: FutureWarning: Default `dtype` value will be changed to 'bool' in a future release, please update `dtype='bool'` to adapt for future behavior.\n",
      "  warnings.warn(\n"
     ]
    }
   ],
   "source": [
    "if gpu == True:\n",
    "    for pos in positions:    \n",
    "        # Get user input for the week number to predict\n",
    "        num_week = int(input(\"Enter the week to predict: \"))\n",
    "\n",
    "        import cudf\n",
    "        import cuml\n",
    "        import cupy as cp\n",
    "        import pandas as pd\n",
    "        import numpy as np\n",
    "        from cuml.ensemble import RandomForestRegressor\n",
    "        from cuml.model_selection import train_test_split, GridSearchCV\n",
    "        from sklearn.impute import SimpleImputer\n",
    "\n",
    "        # Load your dataset using cuDF\n",
    "        data = cudf.read_csv(\"datasets/weekly_scoring.csv\")\n",
    "\n",
    "        # Preprocessing\n",
    "        data = data[data['POS'] == pos]\n",
    "        data = data.drop(columns=['POS RANK', 'POS', 'MISC G', 'MISC ROST', 'MISC FPTS/G', 'RECEIVING REC', 'RECEIVING TGT', 'RECEIVING YDS', 'RECEIVING Y/R',\n",
    "        'RECEIVING LG', 'RECEIVING 20+', 'RECEIVING TD', 'RUSHING Y/A', 'RUSHING LG', 'RUSHING 20+', 'DATE', 'YEAR', 'WEIGHT'])\n",
    "        # With the following lines to get dummies without drop_first:\n",
    "        data = cudf.get_dummies(data, columns=['PLAYER'])\n",
    "        \n",
    "        columns_with_missing = data.to_pandas().isnull().any().index.tolist()\n",
    "        \n",
    "        # Convert problematic columns to cuPy as NumPy arrays\n",
    "        data_numpy = data[columns_with_missing].to_pandas().values\n",
    "        \n",
    "        # Impute missing values with the mean of each column using NumPy\n",
    "        imputer = SimpleImputer(strategy='mean')\n",
    "        data_numpy = imputer.fit_transform(data_numpy)\n",
    "        \n",
    "        # Convert the imputed data back to a cuDF DataFrame\n",
    "        data[columns_with_missing] = cudf.DataFrame(data_numpy, columns=columns_with_missing)\n",
    "\n",
    "\n",
    "        # Define the list of variables to predict\n",
    "        var_list = ['PASSING CMP', 'PASSING ATT', 'PASSING PCT', 'PASSING YDS', 'PASSING Y/A', 'PASSING TD', 'PASSING INT',\n",
    "                    'PASSING SACKS', 'RUSHING ATT', 'RUSHING YDS', 'RUSHING TD', 'MISC FL', 'MISC FPTS', 'WEEK']\n",
    "\n",
    "        # Separate the dataset into features (X) and the target variable (y)\n",
    "        X = data.drop(var_list, axis=1)\n",
    "        y = data['MISC FPTS']\n",
    "\n",
    "        # Save a copy of the dataset\n",
    "        df = data\n",
    "\n",
    "        # Hyperparameter tuning using GridSearchCV\n",
    "        param_grid = {\n",
    "            'n_estimators': [50, 100, 200],\n",
    "            'max_depth': [None, 10, 20],\n",
    "            'min_samples_split': [2, 5, 10],\n",
    "            'min_samples_leaf': [1, 2, 4]\n",
    "        }\n",
    "\n",
    "        # Convert X and y to cuPy arrays for consistency\n",
    "        X = X.to_cupy()\n",
    "        y = y.to_cupy()\n",
    "        \n",
    "        X_train, X_test, y_train, y_test = train_test_split(X, y, test_size=0.2)\n",
    "        \n",
    "        grid_search = GridSearchCV(RandomForestRegressor(), param_grid, cv=3, scoring='neg_mean_squared_error', n_jobs=-1)\n",
    "        grid_search.fit(X_train, y_train)\n",
    "        \n",
    "        # Fit the model with the best hyperparameters\n",
    "        best_rf_model = grid_search.best_estimator_\n",
    "        best_rf_model.fit(X_train, y_train)\n",
    "\n",
    "\n",
    "        # Get a list of unique player names after one-hot encoding\n",
    "        unique_players = X.columns\n",
    "\n",
    "        # Create a list of dictionaries to store the results\n",
    "        results_list = []\n",
    "\n",
    "        for player in unique_players:\n",
    "            # Create a cuDF DataFrame with all zeros\n",
    "            predict_data = cudf.DataFrame(np.zeros((1, len(X.columns)), dtype=np.float64))\n",
    "            # Set the corresponding player's column to 1 for prediction\n",
    "            predict_data[0, player] = 1\n",
    "            predict_data = cp.array(predict_data)\n",
    "            # Make a prediction for the player\n",
    "            misc_fpts_prediction = best_rf_model.predict(predict_data)\n",
    "            results_list.append({'Player': player, 'MISC FPTS': misc_fpts_prediction[0]})\n",
    "\n",
    "        # Convert the list of dictionaries into a cuDF DataFrame\n",
    "        results_df = cudf.DataFrame(results_list)\n",
    "\n",
    "        # Save the results to a CSV file\n",
    "        file_name = f\"predictions/RFweek{num_week}{pos}.csv\"\n",
    "        results_df.to_pandas().to_csv(file_name, index=False)\n",
    "\n",
    "        print(results_df.head(10))\n"
   ]
  },
  {
   "cell_type": "code",
   "execution_count": 2,
   "metadata": {},
   "outputs": [
    {
     "name": "stdout",
     "output_type": "stream",
     "text": [
      "0    1\n",
      "1    2\n",
      "2    3\n",
      "dtype: int64\n"
     ]
    }
   ],
   "source": [
    "import cudf\n",
    "print(cudf.Series([1, 2, 3]))"
   ]
  }
 ],
 "metadata": {
  "kernelspec": {
   "display_name": "Python 3 (ipykernel)",
   "language": "python",
   "name": "python3"
  },
  "language_info": {
   "codemirror_mode": {
    "name": "ipython",
    "version": 3
   },
   "file_extension": ".py",
   "mimetype": "text/x-python",
   "name": "python",
   "nbconvert_exporter": "python",
   "pygments_lexer": "ipython3",
   "version": "3.10.13"
  },
  "vscode": {
   "interpreter": {
    "hash": "31f2aee4e71d21fbe5cf8b01ff0e069b9275f58929596ceb00d14d90e3e16cd6"
   }
  }
 },
 "nbformat": 4,
 "nbformat_minor": 4
}
