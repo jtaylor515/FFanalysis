{
 "cells": [
  {
   "cell_type": "code",
   "execution_count": null,
   "metadata": {},
   "outputs": [],
   "source": [
    "### CODE CELL ###\n",
    "from vars import *\n",
    "### END OF CODE CELL ###\n",
    "\n",
    "import pandas as pd\n",
    "from sklearn.impute import SimpleImputer\n",
    "from sklearn.model_selection import train_test_split\n",
    "\n",
    "data = pd.read_csv(\"datasets/weekly_scoring.csv\")\n",
    "data=pd.DataFrame(data)\n",
    "train, test = train_test_split(data, test_size=0.2, random_state=3)\n",
    "\n",
    "train.to_csv(\"datasets/train.csv\")\n",
    "test.to_csv(\"datasets/test.csv\")"
   ]
  }
 ],
 "metadata": {
  "language_info": {
   "name": "python"
  }
 },
 "nbformat": 4,
 "nbformat_minor": 2
}
