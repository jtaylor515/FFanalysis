{
 "cells": [
  {
   "cell_type": "markdown",
   "metadata": {},
   "source": [
    "## Linear Regression"
   ]
  },
  {
   "cell_type": "markdown",
   "metadata": {},
   "source": [
    "Train"
   ]
  },
  {
   "cell_type": "code",
   "execution_count": 1,
   "metadata": {},
   "outputs": [
    {
     "data": {
      "text/html": [
       "<div>\n",
       "<style scoped>\n",
       "    .dataframe tbody tr th:only-of-type {\n",
       "        vertical-align: middle;\n",
       "    }\n",
       "\n",
       "    .dataframe tbody tr th {\n",
       "        vertical-align: top;\n",
       "    }\n",
       "\n",
       "    .dataframe thead th {\n",
       "        text-align: right;\n",
       "    }\n",
       "</style>\n",
       "<table border=\"1\" class=\"dataframe\">\n",
       "  <thead>\n",
       "    <tr style=\"text-align: right;\">\n",
       "      <th></th>\n",
       "      <th>Week</th>\n",
       "      <th>Pts</th>\n",
       "      <th>Yds</th>\n",
       "      <th>Tds</th>\n",
       "      <th>Player_A</th>\n",
       "      <th>Player_J</th>\n",
       "    </tr>\n",
       "  </thead>\n",
       "  <tbody>\n",
       "    <tr>\n",
       "      <th>0</th>\n",
       "      <td>1</td>\n",
       "      <td>15</td>\n",
       "      <td>120</td>\n",
       "      <td>2</td>\n",
       "      <td>False</td>\n",
       "      <td>True</td>\n",
       "    </tr>\n",
       "    <tr>\n",
       "      <th>1</th>\n",
       "      <td>2</td>\n",
       "      <td>17</td>\n",
       "      <td>80</td>\n",
       "      <td>1</td>\n",
       "      <td>True</td>\n",
       "      <td>False</td>\n",
       "    </tr>\n",
       "    <tr>\n",
       "      <th>2</th>\n",
       "      <td>1</td>\n",
       "      <td>19</td>\n",
       "      <td>150</td>\n",
       "      <td>3</td>\n",
       "      <td>True</td>\n",
       "      <td>False</td>\n",
       "    </tr>\n",
       "    <tr>\n",
       "      <th>3</th>\n",
       "      <td>2</td>\n",
       "      <td>25</td>\n",
       "      <td>100</td>\n",
       "      <td>2</td>\n",
       "      <td>False</td>\n",
       "      <td>True</td>\n",
       "    </tr>\n",
       "  </tbody>\n",
       "</table>\n",
       "</div>"
      ],
      "text/plain": [
       "   Week  Pts  Yds  Tds  Player_A  Player_J\n",
       "0     1   15  120    2     False      True\n",
       "1     2   17   80    1      True     False\n",
       "2     1   19  150    3      True     False\n",
       "3     2   25  100    2     False      True"
      ]
     },
     "execution_count": 1,
     "metadata": {},
     "output_type": "execute_result"
    }
   ],
   "source": [
    "import pandas as pd\n",
    "from sklearn.linear_model import LinearRegression\n",
    "\n",
    "# Create a DataFrame with your expanded dataset\n",
    "data = pd.DataFrame({\n",
    "    'Week': [1, 2, 1, 2],\n",
    "    'Player': ['J', 'A', 'A', 'J'],\n",
    "    'Pts': [15, 17, 19, 25],\n",
    "    'Yds': [120, 80, 150, 100],  # Example Yds values\n",
    "    'Tds': [2, 1, 3, 2]  # Example Tds values\n",
    "})\n",
    "\n",
    "# Convert categorical 'Player' variable into numerical using one-hot encoding\n",
    "data = pd.get_dummies(data, columns=['Player'])\n",
    "\n",
    "# Separate the dataset into features (X) and the target variable (y)\n",
    "X = data.drop(['Pts', 'Yds', 'Tds'], axis=1)  # Keep 'Player' and 'Week' for prediction\n",
    "y = data[['Pts', 'Yds', 'Tds']]  # Predict multiple columns\n",
    "\n",
    "# Create and train a linear regression model for each target variable\n",
    "models = {}\n",
    "for target in y.columns:\n",
    "    model = LinearRegression()\n",
    "    model.fit(X, y[target])\n",
    "    models[target] = model\n",
    "\n",
    "data.head(10)\n"
   ]
  },
  {
   "cell_type": "markdown",
   "metadata": {},
   "source": [
    "Predict"
   ]
  },
  {
   "cell_type": "code",
   "execution_count": 2,
   "metadata": {},
   "outputs": [
    {
     "name": "stdout",
     "output_type": "stream",
     "text": [
      "Predicted Data for Week 3:\n",
      "Player J:\n",
      "Pts: 35.00\n",
      "Yds: 80.00\n",
      "Tds: 2.00\n",
      "Player B:\n",
      "Pts: 15.00\n",
      "Yds: 10.00\n",
      "Tds: -1.00\n"
     ]
    }
   ],
   "source": [
    "\n",
    "import pandas as pd\n",
    "from sklearn.linear_model import LinearRegression\n",
    "\n",
    "# Create a DataFrame with your expanded dataset\n",
    "data = pd.DataFrame({\n",
    "    'Week': [1, 2, 1, 2],\n",
    "    'Player': ['J', 'B', 'B', 'J'],\n",
    "    'Pts': [15, 17, 19, 25],\n",
    "    'Yds': [120, 80, 150, 100],  # Example Yds values\n",
    "    'Tds': [2, 1, 3, 2]  # Example Tds values\n",
    "})\n",
    "\n",
    "df = data\n",
    "# Convert categorical 'Player' variable into numerical using one-hot encoding\n",
    "data = pd.get_dummies(data, columns=['Player'], drop_first=False)\n",
    "\n",
    "# Separate the dataset into features (X) and the target variable (y)\n",
    "X = data.drop(['Pts', 'Yds', 'Tds'], axis=1)\n",
    "y = data[['Pts', 'Yds', 'Tds']]\n",
    "\n",
    "# Create and train a linear regression model for each player and each target variable\n",
    "player_models = {}\n",
    "for player in df['Player'].unique():\n",
    "    player_data = data[data['Player_' + player] == 1]\n",
    "    X_player = player_data.drop(['Pts', 'Yds', 'Tds'], axis=1)\n",
    "    y_player = player_data[['Pts', 'Yds', 'Tds']]\n",
    "    \n",
    "    models = {}\n",
    "    for target in y.columns:\n",
    "        model = LinearRegression()\n",
    "        model.fit(X_player, y_player[target])\n",
    "        models[target] = model\n",
    "    \n",
    "    player_models[player] = models\n",
    "\n",
    "# Now, you can make predictions for week 3 with the new features for each player\n",
    "week3_data = pd.DataFrame({\n",
    "    'Week': [3],\n",
    "    'Player_B': [1],  # Set the corresponding player's column to 1, and others to 0 for prediction\n",
    "    'Player_J': [0],  # Ensure the player columns match those from training data\n",
    "})\n",
    "\n",
    "predicted_data_week3 = {}\n",
    "for player in df['Player'].unique():\n",
    "    predictions = {}\n",
    "    for target in y.columns:\n",
    "        predictions[target] = player_models[player][target].predict(week3_data)[0]\n",
    "    predicted_data_week3[player] = predictions\n",
    "\n",
    "# Print the predictions for each player and each target variable\n",
    "print(\"Predicted Data for Week 3:\")\n",
    "for player in df['Player'].unique():\n",
    "    print(f\"Player {player}:\")\n",
    "    for target, value in predicted_data_week3[player].items():\n",
    "        print(f\"{target}: {value:.2f}\")\n",
    "\n"
   ]
  },
  {
   "cell_type": "markdown",
   "metadata": {},
   "source": [
    "## Random Forest with GridSearchCV hyperparemeter tuning and no regularization"
   ]
  },
  {
   "cell_type": "code",
   "execution_count": 7,
   "metadata": {},
   "outputs": [
    {
     "name": "stdout",
     "output_type": "stream",
     "text": [
      "   Week Player  Pts  Yds  Tds\n",
      "0     1      J   15  120    2\n",
      "1     2      B   17   80    1\n",
      "2     1      B   19  150    3\n",
      "3     2      J   25  100    2\n",
      "   Week  Pts  Yds  Tds  Player_B  Player_J\n",
      "0     1   15  120    2     False      True\n",
      "1     2   17   80    1      True     False\n",
      "2     1   19  150    3      True     False\n",
      "3     2   25  100    2     False      True\n",
      "Predicted Points for Week 3:\n"
     ]
    },
    {
     "ename": "IndexError",
     "evalue": "only integers, slices (`:`), ellipsis (`...`), numpy.newaxis (`None`) and integer or boolean arrays are valid indices",
     "output_type": "error",
     "traceback": [
      "\u001b[0;31m---------------------------------------------------------------------------\u001b[0m",
      "\u001b[0;31mIndexError\u001b[0m                                Traceback (most recent call last)",
      "Cell \u001b[0;32mIn[7], line 54\u001b[0m\n\u001b[1;32m     52\u001b[0m \u001b[38;5;28mprint\u001b[39m(\u001b[38;5;124m\"\u001b[39m\u001b[38;5;124mPredicted Points for Week 3:\u001b[39m\u001b[38;5;124m\"\u001b[39m)\n\u001b[1;32m     53\u001b[0m \u001b[38;5;28;01mfor\u001b[39;00m player \u001b[38;5;129;01min\u001b[39;00m df[\u001b[38;5;124m'\u001b[39m\u001b[38;5;124mPlayer\u001b[39m\u001b[38;5;124m'\u001b[39m]\u001b[38;5;241m.\u001b[39munique():\n\u001b[0;32m---> 54\u001b[0m     prediction \u001b[38;5;241m=\u001b[39m \u001b[43mpredicted_pts_week3\u001b[49m\u001b[43m[\u001b[49m\u001b[38;5;241;43m0\u001b[39;49m\u001b[43m]\u001b[49m\u001b[43m[\u001b[49m\u001b[43mdf\u001b[49m\u001b[43m[\u001b[49m\u001b[38;5;124;43m'\u001b[39;49m\u001b[38;5;124;43mPlayer\u001b[39;49m\u001b[38;5;124;43m'\u001b[39;49m\u001b[43m]\u001b[49m\u001b[38;5;241;43m.\u001b[39;49m\u001b[43munique\u001b[49m\u001b[43m(\u001b[49m\u001b[43m)\u001b[49m\u001b[38;5;241;43m.\u001b[39;49m\u001b[43mtolist\u001b[49m\u001b[43m(\u001b[49m\u001b[43m)\u001b[49m\u001b[43m]\u001b[49m\n\u001b[1;32m     55\u001b[0m     \u001b[38;5;28mprint\u001b[39m(\u001b[38;5;124mf\u001b[39m\u001b[38;5;124m\"\u001b[39m\u001b[38;5;124mPlayer \u001b[39m\u001b[38;5;132;01m{\u001b[39;00mplayer\u001b[38;5;132;01m}\u001b[39;00m\u001b[38;5;124m: \u001b[39m\u001b[38;5;132;01m{\u001b[39;00mprediction\u001b[38;5;132;01m:\u001b[39;00m\u001b[38;5;124m.2f\u001b[39m\u001b[38;5;132;01m}\u001b[39;00m\u001b[38;5;124m\"\u001b[39m)\n",
      "\u001b[0;31mIndexError\u001b[0m: only integers, slices (`:`), ellipsis (`...`), numpy.newaxis (`None`) and integer or boolean arrays are valid indices"
     ]
    }
   ],
   "source": [
    "import pandas as pd\n",
    "from sklearn.ensemble import RandomForestRegressor\n",
    "from sklearn.model_selection import GridSearchCV\n",
    "\n",
    "# Create a DataFrame with your expanded dataset\n",
    "data = pd.DataFrame({\n",
    "    'Week': [1, 2, 1, 2],\n",
    "    'Player': ['J', 'B', 'B', 'J'],\n",
    "    'Pts': [15, 17, 19, 25],\n",
    "    'Yds': [120, 80, 150, 100],  # Example Yds values\n",
    "    'Tds': [2, 1, 3, 2]  # Example Tds values\n",
    "})\n",
    "\n",
    "df = data\n",
    "\n",
    "# Convert categorical 'Player' variable into numerical using one-hot encoding\n",
    "data = pd.get_dummies(data, columns=['Player'], drop_first=False)\n",
    "\n",
    "# Separate the dataset into features (X) and the target variable (y)\n",
    "X = data.drop(['Pts', 'Yds', 'Tds'], axis=1)\n",
    "y = data[['Pts', 'Yds', 'Tds']]\n",
    "\n",
    "# Hyperparameter tuning using GridSearchCV\n",
    "param_grid = {\n",
    "    'n_estimators': [50, 100, 200],\n",
    "    'max_depth': [None, 10, 20],\n",
    "    'min_samples_split': [2, 5, 10],\n",
    "    'min_samples_leaf': [1, 2, 4]\n",
    "}\n",
    "\n",
    "grid_search = GridSearchCV(RandomForestRegressor(), param_grid, cv=3, scoring='neg_mean_squared_error', n_jobs=-1)\n",
    "grid_search.fit(X, y)\n",
    "\n",
    "# Fit the model with the best hyperparameters\n",
    "best_rf_model = grid_search.best_estimator_\n",
    "best_rf_model.fit(X, y)\n",
    "\n",
    "# Now, you can make predictions for week 3 with the new features\n",
    "week3_data = pd.DataFrame({\n",
    "    'Week': [3],\n",
    "    'Player_B': [1],  # Set the corresponding player's column to 1, and others to 0 for prediction\n",
    "    'Player_J': [0]  # Ensure the player columns match those from training data\n",
    "})\n",
    "\n",
    "# Calculate the prediction for week 3\n",
    "predicted_pts_week3 = best_rf_model.predict(week3_data)\n",
    "\n",
    "print(df)\n",
    "print(data)\n",
    "\n",
    "# Print the predictions for each player\n",
    "print(\"Predicted Points for Week 3:\")\n",
    "for player in df['Player'].unique():\n",
    "    prediction = predicted_pts_week3[0][df['Player'].unique().tolist().index(f'Player_{player}')]\n",
    "    print(f\"Player {player}: {prediction:.2f}\")\n"
   ]
  }
 ],
 "metadata": {
  "kernelspec": {
   "display_name": "Python 3.9.6 64-bit",
   "language": "python",
   "name": "python3"
  },
  "language_info": {
   "codemirror_mode": {
    "name": "ipython",
    "version": 3
   },
   "file_extension": ".py",
   "mimetype": "text/x-python",
   "name": "python",
   "nbconvert_exporter": "python",
   "pygments_lexer": "ipython3",
   "version": "3.9.6"
  },
  "orig_nbformat": 4,
  "vscode": {
   "interpreter": {
    "hash": "31f2aee4e71d21fbe5cf8b01ff0e069b9275f58929596ceb00d14d90e3e16cd6"
   }
  }
 },
 "nbformat": 4,
 "nbformat_minor": 2
}
