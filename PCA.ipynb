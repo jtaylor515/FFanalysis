{
 "cells": [
  {
   "cell_type": "code",
   "execution_count": 1,
   "metadata": {},
   "outputs": [],
   "source": [
    "from vars import *\n",
    "import pandas as pd\n",
    "from sklearn.decomposition import PCA\n",
    "from sklearn.preprocessing import StandardScaler\n",
    "import re\n",
    "import numpy as np\n",
    "import matplotlib.pyplot as plt"
   ]
  },
  {
   "cell_type": "markdown",
   "metadata": {},
   "source": [
    "## Loading the data"
   ]
  },
  {
   "cell_type": "code",
   "execution_count": 2,
   "metadata": {},
   "outputs": [],
   "source": [
    "train = pd.read_csv('datasets/train.csv')\n",
    "test = pd.read_csv('datasets/test.csv')  "
   ]
  },
  {
   "cell_type": "markdown",
   "metadata": {},
   "source": [
    "### Feature Engineering"
   ]
  },
  {
   "cell_type": "markdown",
   "metadata": {},
   "source": [
    "Jeff has added team name and opposing team name in the dataset. We're also interested in compiling information on a given player's salary, average points, max/min points, and point variance."
   ]
  },
  {
   "cell_type": "code",
   "execution_count": 4,
   "metadata": {},
   "outputs": [],
   "source": [
    "# this code will compile average player statistics for the training data\n",
    "# player_stats = data.groupby('PLAYER')['MISC FPTS'].agg(\n",
    "#     AVG_FPTS = 'mean',\n",
    "#     MIN_FPTS = 'min',\n",
    "#     MAX_FPTS = 'max',\n",
    "#     VAR_FPTS = 'std'\n",
    "# ).reset_index()\n",
    "\n",
    "# data = pd.merge(data, player_stats, on='PLAYER', how='left')"
   ]
  },
  {
   "cell_type": "markdown",
   "metadata": {},
   "source": [
    "We will split the data into quarterbacks and all other players (running backs, tight ends, and wide receivers)."
   ]
  },
  {
   "cell_type": "code",
   "execution_count": 9,
   "metadata": {},
   "outputs": [],
   "source": [
    "qb_train_data = train[train['POS'] == 'qb']\n",
    "qb_test_data = test[test['POS'] == 'qb']\n",
    "qb_train_data = qb_train_data.drop(columns=[\n",
    "    'POS RANK', 'POS', 'MISC G', 'MISC ROST', 'MISC FPTS/G', 'RECEIVING REC', 'RECEIVING TGT', 'RECEIVING YDS', 'RECEIVING Y/R',\n",
    "    'RECEIVING LG', 'RECEIVING 20+', 'RECEIVING TD', 'RUSHING Y/A', 'RUSHING LG',\n",
    "    'RUSHING 20+', 'DATE', 'YEAR', 'WEIGHT'\n",
    "])"
   ]
  },
  {
   "cell_type": "markdown",
   "metadata": {},
   "source": [
    "We'll want to store our response variable (fantasy points) separately."
   ]
  },
  {
   "cell_type": "code",
   "execution_count": 10,
   "metadata": {},
   "outputs": [],
   "source": [
    "qb_train_y = qb_train_data['MISC FPTS']\n",
    "qb_train_data = qb_train_data.drop(columns=['MISC FPTS'])"
   ]
  },
  {
   "cell_type": "code",
   "execution_count": 11,
   "metadata": {},
   "outputs": [
    {
     "data": {
      "text/plain": [
       "Index(['PLAYER', 'PASSING CMP', 'PASSING ATT', 'PASSING PCT', 'PASSING YDS',\n",
       "       'PASSING Y/A', 'PASSING TD', 'PASSING INT', 'PASSING SACKS',\n",
       "       'RUSHING ATT', 'RUSHING YDS', 'RUSHING TD', 'WEEK', 'TEAM', 'OPP',\n",
       "       'AVG_FPTS', 'MIN_FPTS', 'MAX_FPTS', 'VAR_FPTS'],\n",
       "      dtype='object')"
      ]
     },
     "execution_count": 11,
     "metadata": {},
     "output_type": "execute_result"
    }
   ],
   "source": [
    "qb_train_data.columns"
   ]
  },
  {
   "cell_type": "markdown",
   "metadata": {},
   "source": [
    "### Standard Scaling"
   ]
  },
  {
   "cell_type": "markdown",
   "metadata": {},
   "source": [
    "One hot encoding for categorical variables."
   ]
  },
  {
   "cell_type": "code",
   "execution_count": 14,
   "metadata": {},
   "outputs": [
    {
     "data": {
      "text/plain": [
       "{}"
      ]
     },
     "execution_count": 14,
     "metadata": {},
     "output_type": "execute_result"
    }
   ],
   "source": [
    "qb_data = pd.get_dummies(qb_data, columns=['TEAM', 'OPP', 'PLAYER'])"
   ]
  },
  {
   "cell_type": "code",
   "execution_count": null,
   "metadata": {},
   "outputs": [],
   "source": [
    "scaler = StandardScaler()\n",
    "# change this to only use the train data\n",
    "scaler.fit_transform(qb_data)\n",
    "# scaler.transform(test data)"
   ]
  },
  {
   "cell_type": "markdown",
   "metadata": {},
   "source": [
    "PCA code:"
   ]
  },
  {
   "cell_type": "code",
   "execution_count": null,
   "metadata": {},
   "outputs": [],
   "source": [
    "# PCA code\n",
    "pca = PCA(n_components=0.95)\n",
    "pca.fit(qb_data)"
   ]
  },
  {
   "cell_type": "markdown",
   "metadata": {},
   "source": [
    "Make scree plot."
   ]
  },
  {
   "cell_type": "code",
   "execution_count": null,
   "metadata": {},
   "outputs": [],
   "source": [
    "# eigenvalues\n",
    "eigen = pca.explained_variance_ratio_\n",
    "\n",
    "plt.plot(eigen)\n",
    "plt.xlabel('Number of components')\n",
    "plt.ylabel('Explained variance ratio')\n",
    "plt.savefig('img/scree_plot.png')"
   ]
  }
 ],
 "metadata": {
  "kernelspec": {
   "display_name": "CS334",
   "language": "python",
   "name": "python3"
  },
  "language_info": {
   "codemirror_mode": {
    "name": "ipython",
    "version": 3
   },
   "file_extension": ".py",
   "mimetype": "text/x-python",
   "name": "python",
   "nbconvert_exporter": "python",
   "pygments_lexer": "ipython3",
   "version": "3.11.4"
  }
 },
 "nbformat": 4,
 "nbformat_minor": 2
}
